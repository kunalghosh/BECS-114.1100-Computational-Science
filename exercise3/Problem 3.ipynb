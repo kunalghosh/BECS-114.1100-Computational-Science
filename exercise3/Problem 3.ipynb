{
 "cells": [
  {
   "cell_type": "code",
   "execution_count": 132,
   "metadata": {
    "collapsed": true
   },
   "outputs": [],
   "source": [
    "import numpy as np\n",
    "import pylab as pl\n",
    "%matplotlib inline"
   ]
  },
  {
   "cell_type": "code",
   "execution_count": 133,
   "metadata": {
    "collapsed": true
   },
   "outputs": [],
   "source": [
    "# Defining the Target function\n",
    "f = lambda x: x / ( 0.25 + x*x)"
   ]
  },
  {
   "cell_type": "code",
   "execution_count": 134,
   "metadata": {
    "collapsed": true
   },
   "outputs": [],
   "source": [
    "# Interval\n",
    "xmin, xmax = -2.02857, 2.02857\n",
    "n_points = 13\n",
    "n = 12 # order of polynomial to fit\n",
    "plot_points = 101"
   ]
  },
  {
   "cell_type": "code",
   "execution_count": 135,
   "metadata": {
    "collapsed": true
   },
   "outputs": [],
   "source": [
    "# 13 uniformly distributed points\n",
    "points_uniform = np.linspace(xmin,xmax,n_points)\n",
    "# Taking a much greater number of points to get a smooth function\n",
    "points_function_plot = np.linspace(xmin, xmax, plot_points)"
   ]
  },
  {
   "cell_type": "markdown",
   "metadata": {},
   "source": [
    "Plotting the target Function and 13 uniformly spaced points\n",
    "----------------------------------------------------------"
   ]
  },
  {
   "cell_type": "code",
   "execution_count": 136,
   "metadata": {
    "collapsed": false
   },
   "outputs": [
    {
     "data": {
      "image/png": "[encoded data removed]",
      "text/plain": [
       "<matplotlib.figure.Figure at 0x10626f050>"
      ]
     },
     "metadata": {},
     "output_type": "display_data"
    }
   ],
   "source": [
    "# Plot the 13 points we are interested in.\n",
    "pl.scatter(points_uniform, f(points_uniform))\n",
    "# Plot the curve.\n",
    "pl.plot(points_function_plot, f(points_function_plot))\n",
    "# Turn on grids\n",
    "pl.grid()\n",
    "pl.show()"
   ]
  },
  {
   "cell_type": "markdown",
   "metadata": {},
   "source": [
    "Coefficients and Evaluate function\n",
    "--------------------------------\n",
    "These accept 'n' the degree of the polynomial that needs to be fit, as an argument. Hence they are can work for degree other than n=12 too."
   ]
  },
  {
   "cell_type": "code",
   "execution_count": 137,
   "metadata": {
    "collapsed": false
   },
   "outputs": [],
   "source": [
    "def coefficients(n, x, y):\n",
    "    # n is the degree of the desired polynomial\n",
    "    #print \"x\",len(x),\"y\",len(y) \n",
    "    a = y\n",
    "    for j in range(1,n+1):\n",
    "        for i in range(n,j-1,-1):\n",
    "            a[i] = (a[i] - a[i-1]) / (x[i] - x[i-j])\n",
    "    #print \"a\", len(a)\n",
    "    return a"
   ]
  },
  {
   "cell_type": "code",
   "execution_count": 138,
   "metadata": {
    "collapsed": false
   },
   "outputs": [],
   "source": [
    "def evaluate(n, x, a, t):\n",
    "    pt = a[n]\n",
    "    for i in range(n-1, -1, -1):\n",
    "        pt = pt * (t - x[i]) + a[i];\n",
    "    return pt\n",
    "    "
   ]
  },
  {
   "cell_type": "markdown",
   "metadata": {},
   "source": [
    "# Solution 3 (a) - Interpolating over uniformly spaced points"
   ]
  },
  {
   "cell_type": "code",
   "execution_count": 139,
   "metadata": {
    "collapsed": false
   },
   "outputs": [],
   "source": [
    "# Take linearly spaced X and get Y from the polynomial's analytical expression\n",
    "x,y = points_uniform, f(points_uniform)"
   ]
  },
  {
   "cell_type": "code",
   "execution_count": 140,
   "metadata": {
    "collapsed": false
   },
   "outputs": [],
   "source": [
    "# Get Coefficients\n",
    "coeff = coefficients(n, x, y)"
   ]
  },
  {
   "cell_type": "code",
   "execution_count": 141,
   "metadata": {
    "collapsed": false
   },
   "outputs": [],
   "source": [
    "evaluation = np.asarray([evaluate(n, x, coeff, t) for t in x], np.float)\n",
    "#print evaluation\n",
    "\n",
    "evaluation_100 = np.asarray([evaluate(n, x, coeff, t) for t in points_function_plot], np.float)\n",
    "#print evaluation_100"
   ]
  },
  {
   "cell_type": "code",
   "execution_count": 219,
   "metadata": {
    "collapsed": false
   },
   "outputs": [
    {
     "data": {
      "image/png": "[encoded data removed]",
      "text/plain": [
       "<matplotlib.figure.Figure at 0x108090fd0>"
      ]
     },
     "metadata": {},
     "output_type": "display_data"
    }
   ],
   "source": [
    "# Plot the 13 points we are interested in.\n",
    "pl.scatter(points_uniform, f(points_uniform),label=\"Uniformly distributed\")\n",
    "# Plot the curve.\n",
    "pl.plot(points_function_plot, f(points_function_plot),label=\"f(x)\")\n",
    "pl.plot(points_function_plot, evaluation_100, color='red',label=\"p(x)\")\n",
    "# Turn on grids\n",
    "pl.grid()\n",
    "pl.legend(loc=\"upper left\")\n",
    "#pl.figtext(-0.05,0,\"Plot showing the actual and the interpolation by a degree 12 polynomial over uniformly distributed points\")\n",
    "pl.show()"
   ]
  },
  {
   "cell_type": "markdown",
   "metadata": {},
   "source": [
    "Error and its Distribution\n",
    "--------------------"
   ]
  },
  {
   "cell_type": "code",
   "execution_count": 213,
   "metadata": {
    "collapsed": false
   },
   "outputs": [
    {
     "name": "stdout",
     "output_type": "stream",
     "text": [
      "0.137122949967\n"
     ]
    }
   ],
   "source": [
    "# The mean absolute error\n",
    "error = np.mean(np.abs(evaluation_100 - f(points_function_plot)))\n",
    "print error"
   ]
  },
  {
   "cell_type": "code",
   "execution_count": 218,
   "metadata": {
    "collapsed": false
   },
   "outputs": [
    {
     "data": {
      "text/plain": [
       "[<matplotlib.lines.Line2D at 0x108187650>]"
      ]
     },
     "execution_count": 218,
     "metadata": {},
     "output_type": "execute_result"
    },
    {
     "data": {
      "image/png": "[encoded data removed]",
      "text/plain": [
       "<matplotlib.figure.Figure at 0x105a9d850>"
      ]
     },
     "metadata": {},
     "output_type": "display_data"
    }
   ],
   "source": [
    "# 13 uniformly spaced points\n",
    "pl.scatter(points_uniform, 0 * points_uniform)\n",
    "\n",
    "#Error\n",
    "error = np.abs(evaluation_100 - f(points_function_plot))\n",
    "pl.plot(points_function_plot, error)\n",
    "#pl.figtext(0,0,\"The absolute error |f(x) - p(x)| in polynomial interpolation of x/(0.25 + x^2) using 13 equally spaced points.\")"
   ]
  },
  {
   "cell_type": "markdown",
   "metadata": {},
   "source": [
    "Analysis\n",
    "--------"
   ]
  },
  {
   "cell_type": "markdown",
   "metadata": {},
   "source": [
    "# Solution 3(b) - Interpolating over 13 Chebychev nodes"
   ]
  },
  {
   "cell_type": "code",
   "execution_count": 214,
   "metadata": {
    "collapsed": true
   },
   "outputs": [],
   "source": [
    "def get_chebychev(n,a,b):\n",
    "    '''\n",
    "    A closure which returns a function which would return\n",
    "    chebychev nodes for n number of points in the interval [a,b]\n",
    "    '''\n",
    "    def chebychev(i):\n",
    "        return 0.5*(a+b) + 0.5*(b-a)*np.cos((i*np.pi)/n)\n",
    "    return chebychev"
   ]
  },
  {
   "cell_type": "code",
   "execution_count": 215,
   "metadata": {
    "collapsed": false
   },
   "outputs": [],
   "source": [
    "chebychev = get_chebychev(n_points-1,xmin, xmax) #Chebychev nodes for n_points=13\n",
    "chebychev_nodes = np.asarray([chebychev(i) for i in range(n_points)], np.float) # range(n) => [0,n-1]\n",
    "\n",
    "chebychev = get_chebychev(plot_points-1,xmin, xmax) #Chebychev nodes for plot_points=100 points\n",
    "chebychev_nodes_100 = np.asarray([chebychev(i) for i in range(plot_points)], np.float) # range(n+1) => [0,n]"
   ]
  },
  {
   "cell_type": "code",
   "execution_count": 217,
   "metadata": {
    "collapsed": false
   },
   "outputs": [
    {
     "name": "stdout",
     "output_type": "stream",
     "text": [
      "0 2.02857\n",
      "1 1.95944815344\n",
      "2 1.75679315335\n",
      "3 1.43441560311\n",
      "4 1.014285\n",
      "5 0.525032550324\n",
      "6 1.24214087867e-16\n",
      "7 -0.525032550324\n",
      "8 -1.014285\n",
      "9 -1.43441560311\n",
      "10 -1.75679315335\n",
      "11 -1.95944815344\n",
      "12 -2.02857\n"
     ]
    }
   ],
   "source": [
    "#Check to ensure the 7th Chebychev node is 0\n",
    "for idx, node in enumerate(chebychev_nodes):\n",
    "    print idx, node"
   ]
  },
  {
   "cell_type": "code",
   "execution_count": 157,
   "metadata": {
    "collapsed": true
   },
   "outputs": [],
   "source": [
    "y = f(chebychev_nodes)\n",
    "x = chebychev_nodes\n",
    "# Get coefficients for Chebychev Nodes\n",
    "coeff = coefficients(n, x, y)"
   ]
  },
  {
   "cell_type": "code",
   "execution_count": 158,
   "metadata": {
    "collapsed": true
   },
   "outputs": [],
   "source": [
    "cheby_eval = np.asarray([evaluate(n, chebychev_nodes, coeff, t) for t in chebychev_nodes], np.float)\n",
    "cheby_eval_100 = np.asarray([evaluate(n, chebychev_nodes, coeff, t) for t in chebychev_nodes_100], np.float)"
   ]
  },
  {
   "cell_type": "code",
   "execution_count": 220,
   "metadata": {
    "collapsed": false
   },
   "outputs": [
    {
     "data": {
      "image/png": "[encoded data removed]",
      "text/plain": [
       "<matplotlib.figure.Figure at 0x105ec1210>"
      ]
     },
     "metadata": {},
     "output_type": "display_data"
    }
   ],
   "source": [
    "# Plot the 13 points we are interested in.\n",
    "#pl.scatter(chebychev_nodes, f(chebychev_nodes))\n",
    "pl.scatter(chebychev_nodes, cheby_eval, color='red', label=\"Chebychev nodes\")#will print out the chebychev points\n",
    "\n",
    "# Plot the curve.\n",
    "pl.plot(chebychev_nodes_100, f(chebychev_nodes_100),label=\"f(x)\")\n",
    "pl.plot(chebychev_nodes_100, cheby_eval_100, color='red',label=\"p(x)\")\n",
    "# Turn on grids\n",
    "pl.legend(loc=\"upper left\")\n",
    "#pl.figtext(-0.05,0,\"Plot showing the actual and the interpolation by a degree 12 polynomial over Chebychev nodes.\")\n",
    "pl.grid()\n",
    "pl.show()"
   ]
  },
  {
   "cell_type": "code",
   "execution_count": 153,
   "metadata": {
    "collapsed": false
   },
   "outputs": [
    {
     "name": "stdout",
     "output_type": "stream",
     "text": [
      "0.0272302580903\n"
     ]
    }
   ],
   "source": [
    "error = np.mean(np.abs(cheby_eval_100 - f(chebychev_nodes_100)))\n",
    "print error"
   ]
  },
  {
   "cell_type": "markdown",
   "metadata": {},
   "source": [
    "Distribution of error\n",
    "--------------------"
   ]
  },
  {
   "cell_type": "code",
   "execution_count": 221,
   "metadata": {
    "collapsed": false
   },
   "outputs": [
    {
     "data": {
      "image/png": "[encoded data removed]",
      "text/plain": [
       "<matplotlib.figure.Figure at 0x107dbc7d0>"
      ]
     },
     "metadata": {},
     "output_type": "display_data"
    }
   ],
   "source": [
    "# 13 chebychev points\n",
    "pl.scatter(chebychev_nodes, 0 * chebychev_nodes)\n",
    "\n",
    "#Error\n",
    "error = np.abs(cheby_eval_100 - f(chebychev_nodes_100))\n",
    "pl.plot(chebychev_nodes_100, error)\n",
    "#pl.figtext(0,0,\"The absolute error |f(x) - p(x)| in polynomial interpolation of x/(0.25 + x^2) using 13 Chebychev nodes.\")\n",
    "pl.show()"
   ]
  },
  {
   "cell_type": "code",
   "execution_count": null,
   "metadata": {
    "collapsed": true
   },
   "outputs": [],
   "source": []
  }
 ],
 "metadata": {
  "kernelspec": {
   "display_name": "Python 2",
   "language": "python",
   "name": "python2"
  },
  "language_info": {
   "codemirror_mode": {
    "name": "ipython",
    "version": 2
   },
   "file_extension": ".py",
   "mimetype": "text/x-python",
   "name": "python",
   "nbconvert_exporter": "python",
   "pygments_lexer": "ipython2",
   "version": "2.7.10"
  }
 },
 "nbformat": 4,
 "nbformat_minor": 0
}
